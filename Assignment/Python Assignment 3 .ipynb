{
 "cells": [
  {
   "cell_type": "markdown",
   "metadata": {},
   "source": [
    "### Question 1\n",
    "\n",
    "> Write a Python Program to implement your own myreduce() function which works exactly\n",
    "like Python's built-in function reduce()"
   ]
  },
  {
   "cell_type": "code",
   "execution_count": 21,
   "metadata": {},
   "outputs": [],
   "source": [
    "#the actual fuction takes in a fuction and list to produce one output that form the fucton parameter\n",
    "\n",
    "n = [23,34,5,6]\n",
    "def myreduce(n):\n",
    "    for i in n:\n",
    "        \n",
    "    \n",
    "    "
   ]
  },
  {
   "cell_type": "code",
   "execution_count": 22,
   "metadata": {},
   "outputs": [
    {
     "name": "stdout",
     "output_type": "stream",
     "text": [
      "* \r\n",
      "* * \r\n",
      "* * * \r\n",
      "* * * * \r\n",
      "* * * * * \r\n",
      "* * * * \r\n",
      "* * * \r\n",
      "* * \r\n",
      "*\n"
     ]
    }
   ],
   "source": [
    "patter(4)"
   ]
  },
  {
   "cell_type": "markdown",
   "metadata": {},
   "source": [
    "### Question 2\n",
    "\n",
    "> Write a Python program to implement your own myfilter() function which works exactly\n",
    "like Python's built-in function filter()"
   ]
  },
  {
   "cell_type": "code",
   "execution_count": 1,
   "metadata": {},
   "outputs": [
    {
     "name": "stdout",
     "output_type": "stream",
     "text": [
      "Enter any word: ineuron\n",
      "norueni\n"
     ]
    }
   ],
   "source": [
    "your_word =  input('Enter any word: ')\n",
    "\n",
    "#print the reverse\n",
    "print(your_word[::-1])"
   ]
  },
  {
   "cell_type": "markdown",
   "metadata": {},
   "source": [
    "### Question 3\n",
    "\n",
    "> Implement List comprehensions to produce the following lists"
   ]
  },
  {
   "cell_type": "code",
   "execution_count": 5,
   "metadata": {},
   "outputs": [
    {
     "name": "stdout",
     "output_type": "stream",
     "text": [
      "['x', 'xx', 'xxx', 'xxxx', 'y', 'yy', 'yyy', 'yyyy', 'z', 'zz', 'zzz', 'zzzz']\n"
     ]
    }
   ],
   "source": [
    "# ['x', 'xx', 'xxx', 'xxxx', 'y', 'yy', 'yyy', 'yyyy', 'z', 'zz', 'zzz', 'zzzz']\n",
    "miy = ['x','y','z']\n",
    "new =[]\n",
    "for i in miy:\n",
    "    new.append(i)\n",
    "    new.append(i*2)\n",
    "    new.append(i*3)\n",
    "    new.append(i*4)\n",
    "print(new)"
   ]
  },
  {
   "cell_type": "code",
   "execution_count": 29,
   "metadata": {},
   "outputs": [
    {
     "data": {
      "text/plain": [
       "['x', 'y', 'z', 'xx', 'yy', 'zz', 'xxx', 'yyy', 'zzz', 'xxxx', 'yyyy', 'zzzz']"
      ]
     },
     "execution_count": 29,
     "metadata": {},
     "output_type": "execute_result"
    }
   ],
   "source": [
    "# ['x', 'y', 'z', 'xx', 'yy', 'zz', 'xxx', 'yyy', 'zzz', 'xxxx', 'yyyy', 'zzzz']\n",
    "v1=[]\n",
    "v2=[]\n",
    "v3=[]\n",
    "v4=[]\n",
    "for n in new:\n",
    "    if len(n) == 1:\n",
    "        v1.append(n)\n",
    "    if len(n) == 2:\n",
    "        v2.append(n)\n",
    "    if len(n) == 3:\n",
    "        v3.append(n)\n",
    "    if len(n) == 4:\n",
    "        v4.append(n)   \n",
    "new2 = v1 + v2 + v3 + v4  \n",
    "new2"
   ]
  },
  {
   "cell_type": "code",
   "execution_count": 62,
   "metadata": {},
   "outputs": [
    {
     "name": "stdout",
     "output_type": "stream",
     "text": [
      "[[[2], [3], [4], [3], [4], [5], [4], [5], [6]], [[2, 3, 4, 5]], [[3, 4, 5, 6]], [[4, 5, 6, 7]], [[5, 6, 7, 8]]]\n"
     ]
    }
   ],
   "source": [
    "# [[2], [3], [4], [3], [4], [5], [4], [5], [6]] [[2, 3, 4, 5], [3, 4, 5, 6],[4, 5, 6, 7], [5, 6, 7, 8]]\n",
    "nb = [2,3,4,5,6,7,8]\n",
    "mat = [nb[0:1],nb[1:2],nb[2:3],nb[1:2],nb[2:3],nb[3:4],nb[2:3],nb[3:4],nb[4:5]]\n",
    "#print(mat)\n",
    "mat1 = [nb[:4]]\n",
    "#print(mat1)\n",
    "mat2 = [nb[1:5]]\n",
    "#print(mat2)\n",
    "mat3 =[nb[2:6]]\n",
    "#print(mat3)\n",
    "mat4 =[nb[3:7]]\n",
    "#print(mat4)\n",
    "matrix = [mat,mat1,mat2,mat3,mat4]\n",
    "print(matrix)"
   ]
  },
  {
   "cell_type": "code",
   "execution_count": 77,
   "metadata": {},
   "outputs": [
    {
     "name": "stdout",
     "output_type": "stream",
     "text": [
      "[[2], [3], [4], [5], [6]]\n",
      "5\n"
     ]
    }
   ],
   "source": [
    "#nx = [2,3,4,5,6,7,8]\n",
    "#c = 0\n",
    "#pot = []\n",
    "#for i in nx:\n",
    "    #if i >= 7:\n",
    "        #continue\n",
    "    #pot.append(nx[c:i-1])\n",
    "    #c += 1\n",
    "    \n",
    "    \n",
    "    \n",
    "    \n",
    "#print(pot )\n",
    "#print(c)\n"
   ]
  },
  {
   "cell_type": "code",
   "execution_count": 69,
   "metadata": {},
   "outputs": [
    {
     "data": {
      "text/plain": [
       "[(1, 1), (2, 1), (3, 1), (1, 2), (2, 2), (3, 2), (1, 3), (2, 3), (3, 3)]"
      ]
     },
     "execution_count": 69,
     "metadata": {},
     "output_type": "execute_result"
    }
   ],
   "source": [
    "# [(1, 1), (2, 1), (3, 1), (1, 2), (2, 2), (3, 2), (1, 3), (2, 3), (3, 3)]\n",
    "new5 = [1,2,3]\n",
    "final =[]\n",
    "for n in new5:\n",
    "    for i in new5:\n",
    "        toy = (i,n)\n",
    "        #print(i,n)\n",
    "        final.append(toy)\n",
    "final    \n"
   ]
  },
  {
   "cell_type": "code",
   "execution_count": null,
   "metadata": {},
   "outputs": [],
   "source": []
  }
 ],
 "metadata": {
  "kernelspec": {
   "display_name": "Python 3",
   "language": "python",
   "name": "python3"
  },
  "language_info": {
   "codemirror_mode": {
    "name": "ipython",
    "version": 3
   },
   "file_extension": ".py",
   "mimetype": "text/x-python",
   "name": "python",
   "nbconvert_exporter": "python",
   "pygments_lexer": "ipython3",
   "version": "3.7.6"
  }
 },
 "nbformat": 4,
 "nbformat_minor": 4
}
